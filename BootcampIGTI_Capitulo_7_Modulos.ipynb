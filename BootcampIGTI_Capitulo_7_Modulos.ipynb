{
  "nbformat": 4,
  "nbformat_minor": 0,
  "metadata": {
    "colab": {
      "name": "BootcampIGTI-Capitulo-7-Modulos.ipynb",
      "provenance": [],
      "authorship_tag": "ABX9TyMomhCXX3uTZ56h038WdBsy",
      "include_colab_link": true
    },
    "kernelspec": {
      "name": "python3",
      "display_name": "Python 3"
    }
  },
  "cells": [
    {
      "cell_type": "markdown",
      "metadata": {
        "id": "view-in-github",
        "colab_type": "text"
      },
      "source": [
        "<a href=\"https://colab.research.google.com/github/MoreiraErick/learning-python/blob/modulo-1-fundamentos-em-python/BootcampIGTI_Capitulo_7_Modulos.ipynb\" target=\"_parent\"><img src=\"https://colab.research.google.com/assets/colab-badge.svg\" alt=\"Open In Colab\"/></a>"
      ]
    },
    {
      "cell_type": "markdown",
      "metadata": {
        "id": "6-VoaCYhL5YY"
      },
      "source": [
        "<h1>Capítulo 7 - Módulos</h1>\r\n",
        "<p><strong>Professor:</strong> Erick Faria</p>"
      ]
    },
    {
      "cell_type": "markdown",
      "metadata": {
        "id": "HgUlPcW-MDjn"
      },
      "source": [
        "<h1>Módulos</h1>"
      ]
    },
    {
      "cell_type": "code",
      "metadata": {
        "id": "vhs82QjwL0ha"
      },
      "source": [
        "import math\r\n",
        "import time\r\n",
        "import ftplib # Para downloads FTP"
      ],
      "execution_count": 2,
      "outputs": []
    }
  ]
}