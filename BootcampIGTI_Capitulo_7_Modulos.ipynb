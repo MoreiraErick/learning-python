{
  "nbformat": 4,
  "nbformat_minor": 0,
  "metadata": {
    "colab": {
      "name": "BootcampIGTI-Capitulo-7-Modulos.ipynb",
      "provenance": [],
      "authorship_tag": "ABX9TyPl2gVu3mTC2PpPusUdUNBp",
      "include_colab_link": true
    },
    "kernelspec": {
      "name": "python3",
      "display_name": "Python 3"
    }
  },
  "cells": [
    {
      "cell_type": "markdown",
      "metadata": {
        "id": "view-in-github",
        "colab_type": "text"
      },
      "source": [
        "<a href=\"https://colab.research.google.com/github/MoreiraErick/learning-python/blob/modulo-1-fundamentos-em-python/BootcampIGTI_Capitulo_7_Modulos.ipynb\" target=\"_parent\"><img src=\"https://colab.research.google.com/assets/colab-badge.svg\" alt=\"Open In Colab\"/></a>"
      ]
    },
    {
      "cell_type": "markdown",
      "metadata": {
        "id": "6-VoaCYhL5YY"
      },
      "source": [
        "<h1>Capítulo 7 - Módulos</h1>\r\n",
        "<p><strong>Professor:</strong> Erick Faria</p>"
      ]
    },
    {
      "cell_type": "markdown",
      "metadata": {
        "id": "HgUlPcW-MDjn"
      },
      "source": [
        "<h1>Importando módulos completos</h1>"
      ]
    },
    {
      "cell_type": "code",
      "metadata": {
        "id": "vhs82QjwL0ha"
      },
      "source": [
        "import math\r\n",
        "import time\r\n",
        "import ftplib # Para downloads FTP"
      ],
      "execution_count": 2,
      "outputs": []
    },
    {
      "cell_type": "markdown",
      "metadata": {
        "id": "c6Q23mj7M8os"
      },
      "source": [
        "<h1>Importando parte de um módulo</h2>"
      ]
    },
    {
      "cell_type": "code",
      "metadata": {
        "id": "6MAfU-dHNDXH"
      },
      "source": [
        "from math import factorial"
      ],
      "execution_count": 3,
      "outputs": []
    },
    {
      "cell_type": "markdown",
      "metadata": {
        "id": "Ozq7qz_oOPZ5"
      },
      "source": [
        "<h1>Utilizando os módulos</h1>"
      ]
    },
    {
      "cell_type": "code",
      "metadata": {
        "colab": {
          "base_uri": "https://localhost:8080/"
        },
        "id": "XmoOleDJOUT8",
        "outputId": "d3159574-68df-4f03-f5ec-fe4b12443c7d"
      },
      "source": [
        "math.sqrt(9) # Calcula a raiz quadrada de 9"
      ],
      "execution_count": 4,
      "outputs": [
        {
          "output_type": "execute_result",
          "data": {
            "text/plain": [
              "3.0"
            ]
          },
          "metadata": {
            "tags": []
          },
          "execution_count": 4
        }
      ]
    }
  ]
}