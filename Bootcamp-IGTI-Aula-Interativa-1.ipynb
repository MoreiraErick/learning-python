{
  "nbformat": 4,
  "nbformat_minor": 0,
  "metadata": {
    "colab": {
      "name": "BootcampIGTI-AulaInterativa1.ipynb",
      "provenance": [],
      "collapsed_sections": [],
      "toc_visible": true,
      "authorship_tag": "ABX9TyPAf4dPPsTKt390FpeLjq1f",
      "include_colab_link": true
    },
    "kernelspec": {
      "name": "python3",
      "display_name": "Python 3"
    }
  },
  "cells": [
    {
      "cell_type": "markdown",
      "metadata": {
        "id": "view-in-github",
        "colab_type": "text"
      },
      "source": [
        "<a href=\"https://colab.research.google.com/github/MoreiraErick/learning-python/blob/modulo-1-fundamentos-em-python/Bootcamp-IGTI-Aula-Interativa-1.ipynb\" target=\"_parent\"><img src=\"https://colab.research.google.com/assets/colab-badge.svg\" alt=\"Open In Colab\"/></a>"
      ]
    },
    {
      "cell_type": "markdown",
      "metadata": {
        "id": "dA99QGfHUL6H"
      },
      "source": [
        "# **Bootcamp Online - Desenvolvedor(a) Python IGTI**\r\n",
        "# Aula Interativa 1\r\n",
        "**Data:** 09/03/2021\r\n",
        "**Professor:** Erick Faria\r\n",
        "**Fonte:** Códigos adaptados de [codigoquant](https://gtihub.com/codigoquant)"
      ]
    },
    {
      "cell_type": "markdown",
      "metadata": {
        "id": "WLYZ4YHaVc1Y"
      },
      "source": [
        "# **Exemplo de aplicação do Python para Análise Financeira**"
      ]
    },
    {
      "cell_type": "markdown",
      "metadata": {
        "id": "z5Bmth4sVqWL"
      },
      "source": [
        "## Exemplo 1 - Criando um Ranking de Ações"
      ]
    },
    {
      "cell_type": "code",
      "metadata": {
        "id": "VGzVofc1V0Ks"
      },
      "source": [
        ""
      ],
      "execution_count": null,
      "outputs": []
    },
    {
      "cell_type": "markdown",
      "metadata": {
        "id": "PTOkhlnlW0xY"
      },
      "source": [
        "## Exemplo 2 - Representação Gráfica da Carteira de Ações"
      ]
    },
    {
      "cell_type": "code",
      "metadata": {
        "id": "VIdyEdF0W9q3"
      },
      "source": [
        ""
      ],
      "execution_count": null,
      "outputs": []
    },
    {
      "cell_type": "markdown",
      "metadata": {
        "id": "OSjbAZjmW-DP"
      },
      "source": [
        "## Exemplo 3 - Simulando uma carteira de Ações em comparação ao Ibovespa"
      ]
    },
    {
      "cell_type": "code",
      "metadata": {
        "id": "_IyjTEWFXHVd"
      },
      "source": [
        ""
      ],
      "execution_count": null,
      "outputs": []
    }
  ]
}