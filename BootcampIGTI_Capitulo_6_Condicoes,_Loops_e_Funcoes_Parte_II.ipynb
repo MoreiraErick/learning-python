{
  "nbformat": 4,
  "nbformat_minor": 0,
  "metadata": {
    "colab": {
      "name": "BootcampIGTI-Capitulo-6-Condicoes, Loops e Funcoes-Parte-II.ipynb",
      "provenance": [],
      "collapsed_sections": [],
      "authorship_tag": "ABX9TyMAihN6Rkn67vV7tyt14hFO",
      "include_colab_link": true
    },
    "kernelspec": {
      "name": "python3",
      "display_name": "Python 3"
    }
  },
  "cells": [
    {
      "cell_type": "markdown",
      "metadata": {
        "id": "view-in-github",
        "colab_type": "text"
      },
      "source": [
        "<a href=\"https://colab.research.google.com/github/MoreiraErick/learning-python/blob/modulo-1-fundamentos-em-python/BootcampIGTI_Capitulo_6_Condicoes%2C_Loops_e_Funcoes_Parte_II.ipynb\" target=\"_parent\"><img src=\"https://colab.research.google.com/assets/colab-badge.svg\" alt=\"Open In Colab\"/></a>"
      ]
    },
    {
      "cell_type": "markdown",
      "metadata": {
        "id": "aGdb75E36lm0"
      },
      "source": [
        "<h1>Capítulo 6 - Condições, Loops e Funções (Parte II)</h1>\r\n",
        "<p><strong>Professor:</strong> Erick Faria</p>"
      ]
    },
    {
      "cell_type": "markdown",
      "metadata": {
        "id": "UtMuKiVk7lJc"
      },
      "source": [
        "<h1>While</h1>\r\n",
        "<p>Geralmente utilizado quando não sabemos o tamanho do arquivo, por exemplo.</p>"
      ]
    },
    {
      "cell_type": "code",
      "metadata": {
        "colab": {
          "base_uri": "https://localhost:8080/"
        },
        "id": "XmKYdFbp8GQi",
        "outputId": "b3396286-03b3-45bd-8b00-8ad67baee1ac"
      },
      "source": [
        "num = 1\r\n",
        "while num < 10:\r\n",
        "    print(num)\r\n",
        "    num += 1"
      ],
      "execution_count": 1,
      "outputs": [
        {
          "output_type": "stream",
          "text": [
            "1\n",
            "2\n",
            "3\n",
            "4\n",
            "5\n",
            "6\n",
            "7\n",
            "8\n",
            "9\n"
          ],
          "name": "stdout"
        }
      ]
    },
    {
      "cell_type": "markdown",
      "metadata": {
        "id": "ymGpmRm77tZm"
      },
      "source": [
        "<h1>Break</h1>"
      ]
    },
    {
      "cell_type": "code",
      "metadata": {
        "colab": {
          "base_uri": "https://localhost:8080/"
        },
        "id": "77CwEYBp8HTp",
        "outputId": "3a751c56-adb4-4b51-bee9-4971e6a9bd5b"
      },
      "source": [
        "num = 1 \r\n",
        "while num < 10:\r\n",
        "    print(num)\r\n",
        "    if num == 6: # Vair parar o loop no número 6\r\n",
        "        break\r\n",
        "    num += 1\r\n"
      ],
      "execution_count": 2,
      "outputs": [
        {
          "output_type": "stream",
          "text": [
            "1\n",
            "2\n",
            "3\n",
            "4\n",
            "5\n",
            "6\n"
          ],
          "name": "stdout"
        }
      ]
    },
    {
      "cell_type": "markdown",
      "metadata": {
        "id": "SB3n7zLZ7yRW"
      },
      "source": [
        "<h1>Continue</h1>"
      ]
    },
    {
      "cell_type": "code",
      "metadata": {
        "colab": {
          "base_uri": "https://localhost:8080/"
        },
        "id": "WtoDPYq28Iqj",
        "outputId": "2da3ff5d-8d2d-4b64-84b8-36acfab60a2e"
      },
      "source": [
        "num = 0\r\n",
        "while num < 21:\r\n",
        "    num += 1\r\n",
        "    if num == 12: # Vai pular o número 12\r\n",
        "        continue\r\n",
        "    print(num)  \r\n"
      ],
      "execution_count": 3,
      "outputs": [
        {
          "output_type": "stream",
          "text": [
            "1\n",
            "2\n",
            "3\n",
            "4\n",
            "5\n",
            "6\n",
            "7\n",
            "8\n",
            "9\n",
            "10\n",
            "11\n",
            "13\n",
            "14\n",
            "15\n",
            "16\n",
            "17\n",
            "18\n",
            "19\n",
            "20\n",
            "21\n"
          ],
          "name": "stdout"
        }
      ]
    },
    {
      "cell_type": "markdown",
      "metadata": {
        "id": "VEbnAfW_72ZT"
      },
      "source": [
        "<h1>Range</h1>\r\n",
        "<p>Esta função é muito utilizada quando queremos realizar contagem de valores</p>"
      ]
    },
    {
      "cell_type": "code",
      "metadata": {
        "colab": {
          "base_uri": "https://localhost:8080/"
        },
        "id": "vwjd5djs8Jks",
        "outputId": "330e15ee-4d24-43d2-9113-b0af2b7f476d"
      },
      "source": [
        "# Função range - argumentos\r\n",
        "# range(inicio, termino, salto)\r\n",
        "for i in range(0, 101, 10): # Conta até 100 porém saltando de 10 em 10\r\n",
        "    print(i)"
      ],
      "execution_count": 7,
      "outputs": [
        {
          "output_type": "stream",
          "text": [
            "0\n",
            "10\n",
            "20\n",
            "30\n",
            "40\n",
            "50\n",
            "60\n",
            "70\n",
            "80\n",
            "90\n",
            "100\n"
          ],
          "name": "stdout"
        }
      ]
    },
    {
      "cell_type": "markdown",
      "metadata": {
        "id": "9qnjdi0v76qH"
      },
      "source": [
        "<h1>Def</h1>\r\n",
        "<p>Para criar funções próprias</p>"
      ]
    },
    {
      "cell_type": "code",
      "metadata": {
        "id": "2OusRmdK8KfH"
      },
      "source": [
        "# def nomedafuncao(argumento1, argumento2, quantosForemNecessarios)\r\n",
        "def soma(x, y):\r\n",
        "    print(x + y)"
      ],
      "execution_count": 8,
      "outputs": []
    },
    {
      "cell_type": "code",
      "metadata": {
        "colab": {
          "base_uri": "https://localhost:8080/"
        },
        "id": "8JAgPUVlAII8",
        "outputId": "9c700407-00fd-4dc4-9802-94794b7f3620"
      },
      "source": [
        "soma(1, 10)"
      ],
      "execution_count": 9,
      "outputs": [
        {
          "output_type": "stream",
          "text": [
            "11\n"
          ],
          "name": "stdout"
        }
      ]
    },
    {
      "cell_type": "code",
      "metadata": {
        "id": "9ZZwMD9eAPz_"
      },
      "source": [
        "# Criando uma função para calcular o IMC\r\n",
        "def imc(peso, altura):\r\n",
        "    imc = peso/(altura**2)\r\n",
        "    if imc < 18.5:\r\n",
        "        print('Magreza')\r\n",
        "    elif imc >= 18.5 and imc <= 24.9:\r\n",
        "        print('Normal')\r\n",
        "    elif imc >= 25.0 and imc <= 29.9:\r\n",
        "        print('Sobrepeso')\r\n",
        "    elif imc >= 30.0 and imc <= 39.9:\r\n",
        "        print('Obesidade Grau I')\r\n",
        "    else:\r\n",
        "        print('Obesidade Grau II')\r\n",
        "    return\r\n"
      ],
      "execution_count": 10,
      "outputs": []
    },
    {
      "cell_type": "code",
      "metadata": {
        "colab": {
          "base_uri": "https://localhost:8080/"
        },
        "id": "zXDRs4ccBrRB",
        "outputId": "0f687dc5-29ab-4dc9-913a-06b85e29b63b"
      },
      "source": [
        "imc(85,1.68)"
      ],
      "execution_count": 11,
      "outputs": [
        {
          "output_type": "stream",
          "text": [
            "Obesidade Grau I\n"
          ],
          "name": "stdout"
        }
      ]
    },
    {
      "cell_type": "markdown",
      "metadata": {
        "id": "Uq398zWr7_c7"
      },
      "source": [
        "<h1>Funções Anônimas (Lambda)</h1>\r\n",
        "<p><strong>Curiosidade!</strong> Lambda é o nome da décima primeira letra do alfabeto grego: λ</p>"
      ]
    },
    {
      "cell_type": "code",
      "metadata": {
        "id": "BnkuiPqK7jmO"
      },
      "source": [
        "def soma(x, y):\r\n",
        "    print(x + y)\r\n",
        "    return"
      ],
      "execution_count": 12,
      "outputs": []
    },
    {
      "cell_type": "code",
      "metadata": {
        "colab": {
          "base_uri": "https://localhost:8080/"
        },
        "id": "UvHBviRMDUeE",
        "outputId": "7c8c0d13-30eb-400d-9f65-a1a2dc98145f"
      },
      "source": [
        "soma(10, 5)"
      ],
      "execution_count": 13,
      "outputs": [
        {
          "output_type": "stream",
          "text": [
            "15\n"
          ],
          "name": "stdout"
        }
      ]
    },
    {
      "cell_type": "code",
      "metadata": {
        "id": "kdc3AgSkDZAN"
      },
      "source": [
        "soma_lambda = lambda x, y: x + y"
      ],
      "execution_count": 15,
      "outputs": []
    }
  ]
}